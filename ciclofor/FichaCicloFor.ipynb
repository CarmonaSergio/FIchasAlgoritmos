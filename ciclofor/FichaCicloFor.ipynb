{
  "nbformat": 4,
  "nbformat_minor": 0,
  "metadata": {
    "colab": {
      "provenance": [],
      "authorship_tag": "ABX9TyN+gvDXLrH6XKLKyHYFd/7s",
      "include_colab_link": true
    },
    "kernelspec": {
      "name": "python3",
      "display_name": "Python 3"
    },
    "language_info": {
      "name": "python"
    }
  },
  "cells": [
    {
      "cell_type": "markdown",
      "metadata": {
        "id": "view-in-github",
        "colab_type": "text"
      },
      "source": [
        "<a href=\"https://colab.research.google.com/github/CarmonaSergio/FIchasAlgoritmos/blob/main/ciclofor/FichaCicloFor.ipynb\" target=\"_parent\"><img src=\"https://colab.research.google.com/assets/colab-badge.svg\" alt=\"Open In Colab\"/></a>"
      ]
    },
    {
      "cell_type": "code",
      "execution_count": null,
      "metadata": {
        "colab": {
          "base_uri": "https://localhost:8080/"
        },
        "id": "GaAw8TdH9iTF",
        "outputId": "458f2733-6586-44a6-cdd0-217a68726ecb"
      },
      "outputs": [
        {
          "output_type": "stream",
          "name": "stdout",
          "text": [
            "0\n",
            "1\n",
            "2\n",
            "3\n",
            "peras\n",
            "cerezas\n",
            "limones\n",
            "P\n",
            "y\n",
            "t\n",
            "h\n",
            "o\n",
            "n\n"
          ]
        }
      ],
      "source": [
        "#El ciclo (for) se usa para repetir un bloque de código varias veces, normalmente para recorrer listas, textos, diccionarios, rangos de números, etc.\n",
        "\n",
        "#Ejemplo recorriendo rangos de numeros\n",
        "for i in range(4): #(for) es la palabra clave que inicia el ciclo.\n",
        "                   # (i) es una variable que tomará el valor de cada elemento de la secuencia en cada iteración.\n",
        "                   #(in) es un operador que verifica si un elemento está presente en una secuencia.\n",
        "    print(i) # Su función principal es mostrar mensajes.\n",
        "\n",
        "#Ejemplo recorriendo listas\n",
        "frutas = [\"peras\", \"cerezas\", \"limones\"]\n",
        "\n",
        "for fruta in frutas:  # \"fruta\" toma cada valor de la lista\n",
        "    print(fruta)\n",
        "\n",
        "#Ejemplo recorriendo texto, imprime letra por letra.\n",
        "for letra in \"Python\":\n",
        "  print(letra)\n"
      ]
    },
    {
      "cell_type": "markdown",
      "source": [
        "Link del audio ciclofor: https://carmonasergio.github.io/FIchasAlgoritmos/ciclofor/ciclofor.mp3"
      ],
      "metadata": {
        "id": "7O57JroTiU2u"
      }
    }
  ]
}