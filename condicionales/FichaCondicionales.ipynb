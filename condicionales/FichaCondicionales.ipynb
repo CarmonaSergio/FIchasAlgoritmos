{
  "nbformat": 4,
  "nbformat_minor": 0,
  "metadata": {
    "colab": {
      "provenance": [],
      "authorship_tag": "ABX9TyN/tt9YOJ6V0fhwGhM562F+",
      "include_colab_link": true
    },
    "kernelspec": {
      "name": "python3",
      "display_name": "Python 3"
    },
    "language_info": {
      "name": "python"
    }
  },
  "cells": [
    {
      "cell_type": "markdown",
      "metadata": {
        "id": "view-in-github",
        "colab_type": "text"
      },
      "source": [
        "<a href=\"https://colab.research.google.com/github/CarmonaSergio/FIchasAlgoritmos/blob/main/condicionales/FichaCondicionales.ipynb\" target=\"_parent\"><img src=\"https://colab.research.google.com/assets/colab-badge.svg\" alt=\"Open In Colab\"/></a>"
      ]
    },
    {
      "cell_type": "code",
      "execution_count": null,
      "metadata": {
        "colab": {
          "base_uri": "https://localhost:8080/"
        },
        "id": "UHtdSARx-cMb",
        "outputId": "52a9a846-5f6c-442a-b10a-c09c01c575b9"
      },
      "outputs": [
        {
          "output_type": "stream",
          "name": "stdout",
          "text": [
            "Aprobado\n",
            "Eres mayor de edad\n"
          ]
        }
      ],
      "source": [
        "#Condicionales (if/else): Las estructuras condicionales permiten ejecutar diferentes bloques de código según si una condición es verdadera o falsa.\n",
        "\n",
        "#Ejemplo1\n",
        "nota = 85\n",
        "\n",
        "if nota >= 90: #Se ejecuta si la condición es verdadera.\n",
        "    print(\"Excelente\")\n",
        "elif nota >= 70:#Sirve para comprobar otra condición si la primera ( if) no se cumplió.\n",
        "    print(\"Aprobado\")\n",
        "elif nota >= 50:\n",
        "    print(\"Casi lo logras\")\n",
        "else: #Se ejecuta si la condición del if es falsa.\n",
        "    print(\"Reprobado\")\n",
        "\n",
        "#Ejemplo2\n",
        "edad = 18\n",
        "if edad >= 18: #Se ejecuta si la condición es verdadera.\n",
        "    print(\"Eres mayor de edad\")\n",
        "else: #Se ejecuta si la condición del if es falsa.\n",
        "    print(\"Eres menor de edad\")"
      ]
    },
    {
      "cell_type": "markdown",
      "source": [
        "Link audio de ficha condicionales: https://carmonasergio.github.io/FIchasAlgoritmos/condicionales/condicionales.mp3"
      ],
      "metadata": {
        "id": "MXaEfXeclj03"
      }
    }
  ]
}