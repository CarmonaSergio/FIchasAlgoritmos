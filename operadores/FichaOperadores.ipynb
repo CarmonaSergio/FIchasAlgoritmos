{
  "nbformat": 4,
  "nbformat_minor": 0,
  "metadata": {
    "colab": {
      "provenance": [],
      "authorship_tag": "ABX9TyPdaeZilMt/6dV6i0Z96alE",
      "include_colab_link": true
    },
    "kernelspec": {
      "name": "python3",
      "display_name": "Python 3"
    },
    "language_info": {
      "name": "python"
    }
  },
  "cells": [
    {
      "cell_type": "markdown",
      "metadata": {
        "id": "view-in-github",
        "colab_type": "text"
      },
      "source": [
        "<a href=\"https://colab.research.google.com/github/CarmonaSergio/FIchasAlgoritmos/blob/main/operadores/FichaOperadores.ipynb\" target=\"_parent\"><img src=\"https://colab.research.google.com/assets/colab-badge.svg\" alt=\"Open In Colab\"/></a>"
      ]
    },
    {
      "cell_type": "code",
      "execution_count": null,
      "metadata": {
        "colab": {
          "base_uri": "https://localhost:8080/"
        },
        "id": "gIg7VUeg_waO",
        "outputId": "78dbfe2c-7da8-4e44-8dc4-e784267b8a1e"
      },
      "outputs": [
        {
          "output_type": "stream",
          "name": "stdout",
          "text": [
            "10\n",
            "2\n",
            "40\n",
            "25.0\n",
            "0\n",
            "128\n",
            "False\n",
            "False\n",
            "True\n",
            "True\n",
            "False\n",
            "True\n",
            "False\n",
            "True\n",
            "False\n",
            "True\n"
          ]
        }
      ],
      "source": [
        "#Los operadores matemáticos se utilizan para realizar operaciones matemáticas con números.\n",
        "# Operaciones matemáticas: + , - , * , / , % , **\n",
        "\n",
        "print(1 + 9) # suma\n",
        "print(6 - 4) # resta\n",
        "print(5 * 8) # multiplicacion\n",
        "print(100 / 4) # divicion\n",
        "print(15 % 5) # modulo, devuelve el residuo de la división entre dos números.\n",
        "print(2 ** 7) # potencia, Se utiliza para elevar un número a una potencia.\n",
        "\n",
        "\n",
        "# Los operadores lógicos se utilizan para realizar comparaciones entre valores y devolver resultados booleanos ( True o False).\n",
        "# Los operadores lógicos más comunes son: and , or , not\n",
        "\n",
        "print(3 <= 8 and 3 == 4 )# and, devuelve True solo si ambas condiciones son verdaderas.\n",
        "print(99 <= 7 or 5 == 6 )# or, devuelve True si al menos una de las condiciones es verdadera.\n",
        "print(2 <= 4 or (5 == 5  and 22 < 19)) # se centra el resolver primero el parentesis de adentro y despues los de afuera\n",
        "print(not(11 <= 9))# not, invierte el valor de una condición (cambia True a a False y viceversa).\n",
        "print(2 == 5) # igualdad\n",
        "print(22 != 43) # diferencia\n",
        "print(12 > 66) # mayor que\n",
        "print(3 < 12) # menor que\n",
        "print(2 >= 3) # mayor o igual que\n",
        "print(1 <= 5) # menor o igual que"
      ]
    },
    {
      "cell_type": "markdown",
      "source": [
        "Link de audio ficha Operadores: https://carmonasergio.github.io/FIchasAlgoritmos/operadores/operadores.mp3"
      ],
      "metadata": {
        "id": "uQrg9fhmnSdK"
      }
    }
  ]
}