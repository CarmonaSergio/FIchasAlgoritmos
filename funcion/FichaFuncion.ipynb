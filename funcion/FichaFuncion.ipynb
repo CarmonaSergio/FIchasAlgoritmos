{
  "nbformat": 4,
  "nbformat_minor": 0,
  "metadata": {
    "colab": {
      "provenance": [],
      "authorship_tag": "ABX9TyPbq+WPhDXA+ogy3FqUkIpm",
      "include_colab_link": true
    },
    "kernelspec": {
      "name": "python3",
      "display_name": "Python 3"
    },
    "language_info": {
      "name": "python"
    }
  },
  "cells": [
    {
      "cell_type": "markdown",
      "metadata": {
        "id": "view-in-github",
        "colab_type": "text"
      },
      "source": [
        "<a href=\"https://colab.research.google.com/github/CarmonaSergio/FIchasAlgoritmos/blob/main/funcion/FichaFuncion.ipynb\" target=\"_parent\"><img src=\"https://colab.research.google.com/assets/colab-badge.svg\" alt=\"Open In Colab\"/></a>"
      ]
    },
    {
      "cell_type": "code",
      "execution_count": null,
      "metadata": {
        "colab": {
          "base_uri": "https://localhost:8080/"
        },
        "id": "R4uRyI9x_GxX",
        "outputId": "50d4eb56-e4d9-4b88-fbed-05b1dcdce459"
      },
      "outputs": [
        {
          "output_type": "stream",
          "name": "stdout",
          "text": [
            "Hola, Sergio\n",
            "9\n",
            "Hola, Pedro\n",
            "Hola, Mario\n",
            "La suma es: 9\n"
          ]
        }
      ],
      "source": [
        "#Funcion, es un bloque de código que puedes usar cada vez que lo necesites, sin tener que escribirlo de nuevo.\n",
        "#Parametro, son valores que le pueden pasar a la función para que trabaje con ellos.\n",
        "\n",
        "#Ejemplo1\n",
        "def saludar(nombre): #Cuando define una función con def, le estás diciendo a Python que quieres crear un conjunto de instrucciones que se pueden llamar más tarde.\n",
        "    print(\"Hola,\", nombre)\n",
        "\n",
        "saludar(\"Sergio\")  # Llamando a la función\n",
        "\n",
        "#Ejemplo2\n",
        "\n",
        "def suma(a, b):\n",
        "    return a + b #return sirve para que la función devuelva un valor al lugar donde fue llamada.\n",
        "\n",
        "resultado = suma(3, 6)\n",
        "print(resultado)  # Imprime 8\n",
        "\n",
        "#Ejemplo3\n",
        "def saludar(nombre):#Cuando define una función con def, le estás diciendo a Python que quieres crear un conjunto de instrucciones que se pueden llamar más tarde.\n",
        "    print(\"Hola,\", nombre)\n",
        "\n",
        "saludar(\"Pedro\")\n",
        "saludar(\"Mario\")\n",
        "\n",
        "#Ejemplo4\n",
        "def sumar(a, b):\n",
        "    resultado = a + b\n",
        "    print(\"La suma es:\", resultado)\n",
        "\n",
        "sumar(6, 3)\n"
      ]
    },
    {
      "cell_type": "markdown",
      "source": [
        "Link de audio ficha funcion: https://carmonasergio.github.io/FIchasAlgoritmos/funcion/funcion.mp3"
      ],
      "metadata": {
        "id": "FO3mc4Rymfux"
      }
    }
  ]
}