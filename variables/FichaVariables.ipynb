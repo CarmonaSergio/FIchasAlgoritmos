{
  "nbformat": 4,
  "nbformat_minor": 0,
  "metadata": {
    "colab": {
      "provenance": [],
      "authorship_tag": "ABX9TyPtaupdC7SrwOkZMc6x+/6T",
      "include_colab_link": true
    },
    "kernelspec": {
      "name": "python3",
      "display_name": "Python 3"
    },
    "language_info": {
      "name": "python"
    }
  },
  "cells": [
    {
      "cell_type": "markdown",
      "metadata": {
        "id": "view-in-github",
        "colab_type": "text"
      },
      "source": [
        "<a href=\"https://colab.research.google.com/github/CarmonaSergio/FIchasAlgoritmos/blob/main/variables/FichaVariables.ipynb\" target=\"_parent\"><img src=\"https://colab.research.google.com/assets/colab-badge.svg\" alt=\"Open In Colab\"/></a>"
      ]
    },
    {
      "cell_type": "code",
      "execution_count": 1,
      "metadata": {
        "id": "FmWzSPboAzHK",
        "colab": {
          "base_uri": "https://localhost:8080/"
        },
        "outputId": "d4d71db6-554a-4714-e31f-2cf22d1e3aff"
      },
      "outputs": [
        {
          "output_type": "stream",
          "name": "stdout",
          "text": [
            "Datos de la persona:\n",
            "{'nombre': 'Sergio', 'edad': 24, 'altura': 1.75, 'programador': True, 'lenguajes': ['Python', 'JavaScript', 'C++']}\n"
          ]
        }
      ],
      "source": [
        "#las variables se utilizan para almacenar datos en la memoria, lo que permite manipular valores de manera eficiente dentro de un programa.\n",
        "#Se pueden asignar diferentes tipos de datos a una variable, como números, cadenas, listas, diccionarios, entre otros.\n",
        "#Tipos de datos: int, Enteros\n",
        "edad = 24\n",
        "#float, Números decimales\n",
        "altura = 1.75\n",
        "#str, Cadenas de texto\n",
        "nombre = \"Sergio\"\n",
        "#bool, Booleanos ( True o False)\n",
        "es_programador = True\n",
        "\n",
        "\n",
        "# Lista, son colecciones ordenadas y mutables que pueden contener elementos de diferentes tipos.\n",
        "#Se utilizan para almacenar secuencias de datos y permiten operaciones como agregar, eliminar y acceder a elementos por su índice.\n",
        "lenguajes = [\"Python\", \"JavaScript\", \"C++\"]\n",
        "\n",
        "# Diccionario,son colecciones no ordenadas de pares clave-valor.\n",
        "#Permiten asociar valores a claves únicas, facilitando la búsqueda y recuperación de datos de manera eficiente.\n",
        "persona = {\n",
        "    \"nombre\": nombre,\n",
        "    \"edad\": edad,\n",
        "    \"altura\": altura,\n",
        "    \"programador\": es_programador,\n",
        "    \"lenguajes\": lenguajes\n",
        "}\n",
        "\n",
        "# Mostramos la información\n",
        "print(\"Datos de la persona:\")\n",
        "print(persona)"
      ]
    },
    {
      "cell_type": "markdown",
      "source": [
        "Link audio ficha variables: https://carmonasergio.github.io/FIchasAlgoritmos/variables/variables.mp3"
      ],
      "metadata": {
        "id": "SbuwbAymn8wE"
      }
    }
  ]
}